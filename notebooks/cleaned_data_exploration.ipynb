{
 "cells": [
  {
   "cell_type": "code",
   "execution_count": 2,
   "id": "529f2ca5",
   "metadata": {},
   "outputs": [],
   "source": [
    "import pandas as pd\n",
    "import numpy as np\n",
    "import matplotlib.pyplot as plt"
   ]
  },
  {
   "cell_type": "code",
   "execution_count": null,
   "id": "81865d65",
   "metadata": {},
   "outputs": [
    {
     "data": {
      "text/html": [
       "<div>\n",
       "<style scoped>\n",
       "    .dataframe tbody tr th:only-of-type {\n",
       "        vertical-align: middle;\n",
       "    }\n",
       "\n",
       "    .dataframe tbody tr th {\n",
       "        vertical-align: top;\n",
       "    }\n",
       "\n",
       "    .dataframe thead th {\n",
       "        text-align: right;\n",
       "    }\n",
       "</style>\n",
       "<table border=\"1\" class=\"dataframe\">\n",
       "  <thead>\n",
       "    <tr style=\"text-align: right;\">\n",
       "      <th></th>\n",
       "      <th>id</th>\n",
       "      <th>name</th>\n",
       "      <th>host_id</th>\n",
       "      <th>host_name</th>\n",
       "      <th>neighbourhood_group</th>\n",
       "      <th>neighbourhood</th>\n",
       "      <th>latitude</th>\n",
       "      <th>longitude</th>\n",
       "      <th>room_type</th>\n",
       "      <th>price</th>\n",
       "      <th>minimum_nights</th>\n",
       "      <th>number_of_reviews</th>\n",
       "      <th>last_review</th>\n",
       "      <th>reviews_per_month</th>\n",
       "      <th>calculated_host_listings_count</th>\n",
       "      <th>availability_365</th>\n",
       "      <th>number_of_reviews_ltm</th>\n",
       "      <th>license</th>\n",
       "    </tr>\n",
       "  </thead>\n",
       "  <tbody>\n",
       "  </tbody>\n",
       "</table>\n",
       "</div>"
      ],
      "text/plain": [
       "Empty DataFrame\n",
       "Columns: [id, name, host_id, host_name, neighbourhood_group, neighbourhood, latitude, longitude, room_type, price, minimum_nights, number_of_reviews, last_review, reviews_per_month, calculated_host_listings_count, availability_365, number_of_reviews_ltm, license]\n",
       "Index: []"
      ]
     },
     "execution_count": 6,
     "metadata": {},
     "output_type": "execute_result"
    }
   ],
   "source": [
    "#Loading the dataset for New York listings and displaying the first few rows\n",
    "NY_listing_data = pd.read_csv('../data/NY-NY-listings.csv')\n",
    "NY_listing_data.head(0)"
   ]
  },
  {
   "cell_type": "code",
   "execution_count": null,
   "id": "99b50c04",
   "metadata": {},
   "outputs": [],
   "source": [
    "NN_NY_listing_data = NY_listing_data.dropna(subset = ['price'], axis=0,).drop(columns=['host_name', 'license'])\n",
    "#removing rows with missing values in 'price' and dropping 'host_name' and 'license' columns as they are not needed for analysis"
   ]
  },
  {
   "cell_type": "code",
   "execution_count": 59,
   "id": "993488e3",
   "metadata": {},
   "outputs": [],
   "source": [
    "NN_NY_listing_data[['number_of_reviews', 'reviews_per_month','last_review']] = NN_NY_listing_data[['number_of_reviews', 'reviews_per_month','last_review']].fillna(0)"
   ]
  },
  {
   "cell_type": "code",
   "execution_count": null,
   "id": "64f5f259",
   "metadata": {},
   "outputs": [],
   "source": [
    "NN_NY_listing_data.head(5)  # Displaying the first five rows of the cleaned dataset"
   ]
  },
  {
   "cell_type": "code",
   "execution_count": null,
   "id": "c4ac6211",
   "metadata": {},
   "outputs": [
    {
     "name": "stdout",
     "output_type": "stream",
     "text": [
      "id                                0\n",
      "name                              0\n",
      "host_id                           0\n",
      "neighbourhood_group               0\n",
      "neighbourhood                     0\n",
      "latitude                          0\n",
      "longitude                         0\n",
      "room_type                         0\n",
      "price                             0\n",
      "minimum_nights                    0\n",
      "number_of_reviews                 0\n",
      "last_review                       0\n",
      "reviews_per_month                 0\n",
      "calculated_host_listings_count    0\n",
      "availability_365                  0\n",
      "number_of_reviews_ltm             0\n",
      "dtype: int64\n"
     ]
    }
   ],
   "source": [
    "null_counts = NN_NY_listing_data.isnull().sum()\n",
    "print(null_counts)\n",
    "#checking for any remaining null values in the dataset, should return 0 for all columns"
   ]
  },
  {
   "cell_type": "code",
   "execution_count": null,
   "id": "ecf2e184",
   "metadata": {},
   "outputs": [],
   "source": [
    "# #using scatter plot to visualize any outliers in the price column for first 15 rows\n",
    "# # Select the first 15 rows for plotting\n",
    "# first_15 = NN_NY_listing_data.head(20)\n",
    "\n",
    "# plt.figure(figsize=(10, 6))\n",
    "# plt.scatter(first_15.index, first_15['price'], color='blue', alpha=0.7)\n",
    "# plt.title('Scatter Plot of Price for First 15 Rows')\n",
    "# plt.xlabel('Index')\n",
    "# plt.ylabel('Price')\n",
    "# plt.grid(True)\n",
    "# plt.show()\n",
    "\n",
    "# #scatter plot is not helpful, using a different technique to find outliers"
   ]
  },
  {
   "cell_type": "code",
   "execution_count": 122,
   "id": "f5ce6de7",
   "metadata": {},
   "outputs": [
    {
     "name": "stdout",
     "output_type": "stream",
     "text": [
      "Indices of outliers in the price column: [23864, 23865, 23866, 23962, 23965, 23984, 24026, 24037, 24038, 24039, 24040, 24041, 24142, 24143, 24144, 24145, 24147, 24148, 24161, 24181, 24676, 25205, 25206, 25208, 25211, 25212, 25419, 25420, 26327, 26833, 26834, 26835, 27220, 27221, 28687, 29089, 29090, 29091, 29110, 29170, 29173, 29174, 29196, 29197, 29198, 29214, 29215, 29217, 29219, 29268, 29282, 29283, 29284, 29466, 29727, 29749, 29751, 29752, 29868, 29869, 29961, 30167, 30168, 30170, 30171, 30172, 30173, 30174, 30175, 30177, 30181, 30182, 30183, 30185, 30186, 30187, 30188, 30190, 30192, 30193, 30194, 30198, 30199, 30200, 30201, 30258, 30259, 30260, 30262, 30263, 30264, 30265, 30266, 30278, 30279, 30450, 30451, 30452, 30612, 30613, 30614, 30615, 30623, 30624, 30625, 30630, 30631, 30632, 30634, 30635, 30636, 30637, 30638, 30643, 30644, 30900, 31019, 31245, 31246, 31248, 31396, 31398, 32549, 32550, 32552, 32572, 32573, 33101, 33135, 35045, 35046, 35048, 35049, 35050, 35051, 35368, 35369, 35371, 35462, 35463, 35464, 35465, 35526, 35527, 35529, 35530, 35531, 35738, 35741, 36064, 36069, 36070, 36071, 36072]\n"
     ]
    }
   ],
   "source": [
    "#need to check for outlier indices in the price column\n",
    "outlier_indices = NN_NY_listing_data[NN_NY_listing_data['price'] > 10000].index\n",
    "print(\"Indices of outliers in the price column:\", outlier_indices.tolist())"
   ]
  },
  {
   "cell_type": "code",
   "execution_count": null,
   "id": "db6d7807",
   "metadata": {},
   "outputs": [],
   "source": [
    "# NN_NY_listing_data.loc[[23864]]  # Displaying the row with index 213 to check the outlier details"
   ]
  },
  {
   "cell_type": "code",
   "execution_count": null,
   "id": "b5921d5b",
   "metadata": {},
   "outputs": [],
   "source": [
    "# NN_NY_listing_data.loc[[23865]]"
   ]
  },
  {
   "cell_type": "code",
   "execution_count": null,
   "id": "a75964d5",
   "metadata": {},
   "outputs": [
    {
     "name": "stdout",
     "output_type": "stream",
     "text": [
      "Indices of sus host listings : [23106, 23125, 23126, 23864, 23865, 23866, 23962, 23963, 23965, 23966, 23982, 23984, 23986, 23987, 24026, 24037, 24038, 24039, 24040, 24041, 24141, 24142, 24143, 24144, 24145, 24147, 24148, 24181]\n"
     ]
    }
   ],
   "source": [
    "# sus_host =  NN_NY_listing_data[NN_NY_listing_data['host_id'] == 25138314].index\n",
    "# print(\"Indices of sus host listings :\", sus_host.tolist())"
   ]
  },
  {
   "cell_type": "code",
   "execution_count": null,
   "id": "75c94332",
   "metadata": {},
   "outputs": [
    {
     "name": "stdout",
     "output_type": "stream",
     "text": [
      "Elements in B but not A: [23106, 24141, 23982, 23986, 23987, 23125, 23126, 23963, 23966]\n"
     ]
    }
   ],
   "source": [
    "# diff_b_a = list(set(sus_host.tolist()) - set(outlier_indices.tolist()))\n",
    "# print(f\"Elements in B but not A: {diff_b_a}\")"
   ]
  },
  {
   "cell_type": "code",
   "execution_count": null,
   "id": "a36a18d3",
   "metadata": {},
   "outputs": [],
   "source": [
    "# NN_NY_listing_data.loc[[23106]]"
   ]
  },
  {
   "cell_type": "code",
   "execution_count": 123,
   "id": "2b29b6af",
   "metadata": {},
   "outputs": [],
   "source": [
    "outlier_list= outlier_indices.tolist()"
   ]
  },
  {
   "cell_type": "code",
   "execution_count": 124,
   "id": "0beef192",
   "metadata": {},
   "outputs": [],
   "source": [
    "new_outlier_list=outlier_list.copy()  # Creating a copy of the outlier list to modify it later"
   ]
  },
  {
   "cell_type": "code",
   "execution_count": null,
   "id": "653d5f63",
   "metadata": {},
   "outputs": [],
   "source": [
    "# for i in outlier_list:\n",
    "#     interested_row = NN_NY_listing_data.loc[[i]]\n",
    "#     print(f\"\\n{interested_row}\\n\")\n",
    "# # Displaying the row with index 23864 to check the outlier details  \n"
   ]
  },
  {
   "cell_type": "code",
   "execution_count": 125,
   "id": "b397a13a",
   "metadata": {},
   "outputs": [
    {
     "name": "stdout",
     "output_type": "stream",
     "text": [
      "Outliers with reviews greater than zero: [24040, 24143, 25205, 25211, 25419, 29219, 29961, 30200, 30201, 30900, 31396, 31398]\n"
     ]
    }
   ],
   "source": [
    "#checking outliers in outlier list with reviews greater than zero\n",
    "non_outlier_list = [i for i in outlier_list if NN_NY_listing_data.loc[i, 'number_of_reviews'] > 0]\n",
    "print(\"Outliers with reviews greater than zero:\", non_outlier_list)"
   ]
  },
  {
   "cell_type": "code",
   "execution_count": null,
   "id": "5c8f5153",
   "metadata": {},
   "outputs": [],
   "source": [
    "# for i in non_outlier_list:\n",
    "#     non_interested_row = NN_NY_listing_data.loc[[i]]\n",
    "#     print(f\"\\n{non_interested_row}\\n\")"
   ]
  },
  {
   "cell_type": "code",
   "execution_count": null,
   "id": "68bb1671",
   "metadata": {},
   "outputs": [],
   "source": [
    "for i in outlier_list:\n",
    "    if i in non_outlier_list:\n",
    "        new_outlier_list.remove(i)\n",
    "    else:\n",
    "        print(f\"Index {i} is not in non_outlier_list, so it remains in new_outlier_list.\")\n",
    "    "
   ]
  },
  {
   "cell_type": "code",
   "execution_count": null,
   "id": "3d3bfce5",
   "metadata": {},
   "outputs": [],
   "source": [
    "# outlier_list[:35]"
   ]
  },
  {
   "cell_type": "code",
   "execution_count": null,
   "id": "e4c5102a",
   "metadata": {},
   "outputs": [],
   "source": [
    "# new_outlier_list[:35]  # Displaying the first five elements of the new outlier list to verify the changes"
   ]
  },
  {
   "cell_type": "code",
   "execution_count": null,
   "id": "d7bc8309",
   "metadata": {},
   "outputs": [],
   "source": [
    "# non_outlier_list[:20]  # Displaying the first five elements of the non-outlier list to verify the changes"
   ]
  },
  {
   "cell_type": "code",
   "execution_count": 129,
   "id": "14227af2",
   "metadata": {},
   "outputs": [],
   "source": [
    "#now will remove the rows with indices in new_outlier_list from NN_NY_listing_data\n",
    "NN_NY_listing_data = NN_NY_listing_data.drop(index=new_outlier_list)"
   ]
  },
  {
   "cell_type": "code",
   "execution_count": null,
   "id": "17342f26",
   "metadata": {},
   "outputs": [
    {
     "name": "stdout",
     "output_type": "stream",
     "text": [
      "Indices of outliers in the price column: []\n"
     ]
    }
   ],
   "source": [
    "#checking if the outliers have been removed\n",
    "\n",
    "test_outlier_indices = NN_NY_listing_data[\n",
    "    (NN_NY_listing_data['price'] > 10000) & \n",
    "    (NN_NY_listing_data['number_of_reviews'] == 0)\n",
    "].index\n",
    "\n",
    "print(\"Indices of outliers in the price column:\", test_outlier_indices.tolist())\n"
   ]
  },
  {
   "cell_type": "code",
   "execution_count": null,
   "id": "cb5378b8",
   "metadata": {},
   "outputs": [
    {
     "name": "stdout",
     "output_type": "stream",
     "text": [
      "1st percentile price: $37.00\n",
      "99th percentile price: $1274.36\n"
     ]
    }
   ],
   "source": [
    "low_cutoff = NN_NY_listing_data['price'].quantile(0.01)\n",
    "print(f\"1st percentile price: ${low_cutoff:.2f}\")\n",
    "high_cutoff = NN_NY_listing_data['price'].quantile(0.99)\n",
    "print(f\"99th percentile price: ${high_cutoff:.2f}\")\n",
    "\n",
    "#finding the low cutoff and confirming the high cutoff we used was correct"
   ]
  },
  {
   "cell_type": "code",
   "execution_count": 140,
   "id": "d36870a4",
   "metadata": {},
   "outputs": [
    {
     "name": "stdout",
     "output_type": "stream",
     "text": [
      "Indices of low outliers in the price column: [16535, 17330, 17537, 18071, 20264, 23332, 23338, 24970, 24972, 24974, 25141, 25392, 25409, 25710, 25725, 25996, 26408, 26409, 26410, 26411, 26427, 26430, 26568, 26806, 26908, 27209, 27738, 28187, 28200, 29326, 29432, 29447, 30030, 30282, 30284, 30288, 30291, 30294, 31268, 32691, 32990, 33081, 33289, 33497, 33561, 33568, 33686, 33803, 34076, 34376, 34452, 34667, 34673, 34686, 34722, 34723, 34807, 34875, 34886, 34998, 35031, 35094, 35150, 35194, 35252, 35278, 35290, 35292, 35472, 35565, 35567, 35615, 35655, 35724, 35841, 35842, 35843, 35856, 35949, 36007, 36036, 36045, 36048, 36054, 36147, 36158, 36160, 36212, 36214, 36215, 36238, 36250, 36291, 36314]\n"
     ]
    }
   ],
   "source": [
    "low_outlier_indices = NN_NY_listing_data[(NN_NY_listing_data['price'] <= low_cutoff) & (NN_NY_listing_data['number_of_reviews'] == 0)].index\n",
    "print(\"Indices of low outliers in the price column:\", low_outlier_indices.tolist())"
   ]
  },
  {
   "cell_type": "code",
   "execution_count": 141,
   "id": "31745361",
   "metadata": {},
   "outputs": [],
   "source": [
    "NN_NY_listing_data = NN_NY_listing_data.drop(index=low_outlier_indices)"
   ]
  },
  {
   "cell_type": "code",
   "execution_count": null,
   "id": "fbd19206",
   "metadata": {},
   "outputs": [
    {
     "name": "stdout",
     "output_type": "stream",
     "text": [
      "Indices of low outliers in the price column: []\n"
     ]
    }
   ],
   "source": [
    "low_outlier_indices = NN_NY_listing_data[(NN_NY_listing_data['price'] <= low_cutoff) & (NN_NY_listing_data['number_of_reviews'] == 0)].index\n",
    "print(\"Indices of low outliers in the price column:\", low_outlier_indices.tolist())\n",
    "\n",
    "#checking all the outliers have been removed"
   ]
  }
 ],
 "metadata": {
  "kernelspec": {
   "display_name": "airbnb-data-proj",
   "language": "python",
   "name": "python3"
  },
  "language_info": {
   "codemirror_mode": {
    "name": "ipython",
    "version": 3
   },
   "file_extension": ".py",
   "mimetype": "text/x-python",
   "name": "python",
   "nbconvert_exporter": "python",
   "pygments_lexer": "ipython3",
   "version": "3.13.2"
  }
 },
 "nbformat": 4,
 "nbformat_minor": 5
}
